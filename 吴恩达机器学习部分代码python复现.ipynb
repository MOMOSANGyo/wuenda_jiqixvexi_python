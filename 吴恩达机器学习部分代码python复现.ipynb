{
 "cells": [
  {
   "cell_type": "code",
   "execution_count": 1,
   "metadata": {
    "collapsed": true
   },
   "outputs": [],
   "source": [
    "import numpy as np\n"
   ]
  },
  {
   "cell_type": "code",
   "execution_count": 2,
   "outputs": [],
   "source": [
    "# 线性回归代价函数的公式\n",
    "# np.power(x,2) 求x的2次方\n",
    "# X.T  将X转置\n",
    "# 函数中X,y,theta均为向量\n",
    "\n",
    "def computeCost(X,y,theta):\n",
    "    inner = np.power(((X*theta.T)-y),2)\n",
    "    return np.sum(inner)/(2*len(X))\n",
    "\n"
   ],
   "metadata": {
    "collapsed": false,
    "pycharm": {
     "name": "#%%\n"
    }
   }
  },
  {
   "cell_type": "code",
   "execution_count": 3,
   "outputs": [],
   "source": [
    "# 正规方程\n",
    "# @ 矩阵乘法\n",
    "# np.linalg.inv() 矩阵求逆\n",
    "\n",
    "def normalEqn(X,y):\n",
    "    theta = np.linalg.inv(X.T@X)@X.T@y\n",
    "    return theta"
   ],
   "metadata": {
    "collapsed": false,
    "pycharm": {
     "name": "#%%\n"
    }
   }
  },
  {
   "cell_type": "code",
   "execution_count": 5,
   "outputs": [],
   "source": [
    "#sigmod函数\n",
    "# np.exp(-z) 表示以e为底的-z次幂\n",
    "def sigmod(z):\n",
    "    return 1/(1+np.exp(-z))"
   ],
   "metadata": {
    "collapsed": false,
    "pycharm": {
     "name": "#%%\n"
    }
   }
  },
  {
   "cell_type": "code",
   "execution_count": 12,
   "outputs": [],
   "source": [
    "# 逻辑回归的代价函数\n",
    "# np.multiply(),数组和矩阵对应位置相乘\n",
    "# np.dot() 对于秩为1的数组，执行对应位置相乘，然后再相加；对于秩不为1的二维数组，执行矩阵乘法运算；超二维，略\n",
    "#（*）乘法运算，对数组执行相应位置相乘，对矩阵执行矩阵乘法运算\n",
    "# shape(0)返回数组的行数，shape(1)返回数据的列数\n",
    "\n",
    "def cost(theta,X,y,learningRate):\n",
    "    \"\"\"\n",
    "    :param theta:\n",
    "    :param X:\n",
    "    :param y:\n",
    "    :param learningRate:学习速率\n",
    "    :return:\n",
    "    \"\"\"\n",
    "    theta = np.matrix(theta)\n",
    "    X = np.matrix(X)\n",
    "    y = np.matrix(y)\n",
    "    first = np.multiply(-y,np.log(sigmod(X*theta.T)))\n",
    "    second = np.multiply((1-y),np.log(1-sigmod(X*theta.T)))\n",
    "    # 正则项\n",
    "    reg = (learningRate/(2*len(X)))*np.sum(np.power(theta[:,1:theta.shape[1]],2))\n",
    "    return np.sum(first - second)/(len(X))+reg"
   ],
   "metadata": {
    "collapsed": false,
    "pycharm": {
     "name": "#%%\n"
    }
   }
  },
  {
   "cell_type": "code",
   "execution_count": 12,
   "outputs": [],
   "source": [],
   "metadata": {
    "collapsed": false,
    "pycharm": {
     "name": "#%%\n"
    }
   }
  }
 ],
 "metadata": {
  "kernelspec": {
   "display_name": "Python 3",
   "language": "python",
   "name": "python3"
  },
  "language_info": {
   "codemirror_mode": {
    "name": "ipython",
    "version": 2
   },
   "file_extension": ".py",
   "mimetype": "text/x-python",
   "name": "python",
   "nbconvert_exporter": "python",
   "pygments_lexer": "ipython2",
   "version": "2.7.6"
  }
 },
 "nbformat": 4,
 "nbformat_minor": 0
}